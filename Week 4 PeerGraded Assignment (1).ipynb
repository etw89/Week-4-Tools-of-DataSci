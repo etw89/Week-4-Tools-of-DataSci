{
 "cells": [
  {
   "cell_type": "markdown",
   "id": "94f9790e-faa3-4142-b4fc-38feeae94fd5",
   "metadata": {},
   "source": [
    "# Title: Final Assignment Week 4 Peer Graded"
   ]
  },
  {
   "cell_type": "markdown",
   "id": "5779180f-1814-4131-8e15-f9274d163f60",
   "metadata": {},
   "source": [
    "## Introduction: In this assignment I will complete the tasks outlined in the assignment instructions; these tasks will assess my knowledge of data science, languages, tools, etc."
   ]
  },
  {
   "cell_type": "markdown",
   "id": "e21520d7-ac0f-448c-9ab7-1d00dd8b3cc1",
   "metadata": {},
   "source": [
    "## Data Science Languages (List)\n",
    "* Python\n",
    "* [R]\n",
    "* SQL\n",
    "* Scala\n",
    "* Java\n",
    "* C++\n",
    "* Julia\n",
    "* JavaScript\n",
    "* PHP\n",
    "* Go\n",
    "* Ruby\n",
    "* Visual Basic"
   ]
  },
  {
   "cell_type": "markdown",
   "id": "8c4b1a10-fee9-453b-9215-df339c135f1b",
   "metadata": {},
   "source": [
    "## Data Science Libraries (List)\n",
    "\n",
    "* **Python Libraries**\n",
    "* Pandas\n",
    "* NumPy\n",
    "* Matplotlib\n",
    "* Seaborn\n",
    "* Scikit-learn\n",
    "* Keras\n",
    "* TensorFlow\n",
    "* PyTorch\n",
    "* **Other Non-Python Libraries** \n",
    "* Apache Spark\n",
    "* Vegas\n",
    "* Big DL\n",
    "* ggplot2"
   ]
  },
  {
   "cell_type": "markdown",
   "id": "1391bea5-5a7d-48a9-81c5-0d1c798e35f0",
   "metadata": {},
   "source": [
    "## Data Science Tools (Table)\n",
    "\n",
    "| Open Source| Commercial | Cloud Based|\n",
    "|------------|------------|------------|\n",
    "| *Data Mngt*  |*Data Mngt*| *Fully Integr. Viz Tools and Platforms*|\n",
    "|Mongo DB    | Oracle Database|Watson Studio + Watson Open Scale|\n",
    "|Apache Couch DB| Microsoft SQL Server|Microsoft Azure Machine Learning|\n",
    "|Apache Cassandra|IBM DB2|H20 Driverless AI|\n",
    "|*File Based Tools*| *ELT*| *Data Mngt*|\n",
    "|Hadoop File System| Informatica| Amazon AWS Dynamo DB|\n",
    "|Ceph| IBM Inforsphere DataStorage| JSON|\n",
    "|Elasticsearch| Products from SAP| Cloudant|\n",
    "|*ELT*| Products from Oracle| Apache Couch DB Relax|\n",
    "|Apache Airflow| Products from Oracle| DB2|\n",
    "|Kube Flow| Products from SAS| *ELT*|\n",
    "|Apache Kafka| Talend| Informatica|\n",
    "|Apache Nifi| Products from Microsoft|IBM Data Refinery|\n",
    "|Apache Spark SQL| Watson Studio Desktop Data Refinery| *Data Viz*|\n",
    "|NodeRED| *Data Viz*| Datameer|\n",
    "|*Data Viz*| Tableau| IBM Cognos Analytics BI Suite|\n",
    "|Hue| Microsoft Power BI| Watson Studio |\n",
    "|Kibara| IBM Cognos Analytics| *Model Building*|\n",
    "|Apache Superset| Watson Studio Desktop | Watson Machine Learning|\n",
    "|*Model Deployment*|*Model Building and Deployment*| Google Cloud AI|\n",
    "|Apache Prediction IO| SPSS Modeler| *Model Deployment*|\n",
    "|Seldon (runs atop Kubernetes & redHAT openshift| SAS Enterprise Miner|IBM SPSS Modeler|\n",
    "|mleap| IBM SPSS Modeler|IBM Watson Machine Learning|\n",
    "|Tensor Flow| *Model Mntr*| *Model Mntn*|\n",
    "|Tensor Flow Lite| none| AWS Amazon SageMaker Model Mntr|\n",
    "|Tensor Flow.js| *Code Mngt*| Watson Open Scale|\n",
    "|*Model Mntr*|none|\n",
    "|Model DB|*Data Asset Mngt*|\n",
    "|Prometheus| Informatica|\n",
    "|IBM AI Fairness 360 Opensource Toolkit| IBM InfoSphere Info Governance Catalog|\n",
    "|IBM Adversarial Robustness 360 toolbox|*Dev Environment*|\n",
    "|IBM AI Explainability 360|Watson Studio Desktop|\n",
    "|*Data Asset Mngt*|*Fully Integr. Viz Tools*|\n",
    "|Apache Atlas|Watson Studio + Watson OpenScale|\n",
    "|ODPi EGERIA| H20 Driverless AI|\n",
    "|Kylo|\n",
    "|*Code Asset Mngt*|\n",
    "|Git|\n",
    "|GitHub|\n",
    "|GitLab|\n",
    "|*Dev Environment*|\n",
    "|Jupyter Notebooks|\n",
    "|Jupyter labs|\n",
    "|[R]Studio|\n",
    "|Apache Zeppelin|\n",
    "|Spyder|\n",
    "|*Execution Environment*|\n",
    "|Apache Spark(Batch)|\n",
    "|Apache Flink (Stream|\n",
    "|RiseLab-Ray|\n",
    "|*Fully Integr. Viz Tools*|\n",
    "|KNIME|\n",
    "|Orange|\n",
    "\n",
    "\n",
    "\n",
    "\n",
    "\n",
    "\n"
   ]
  },
  {
   "cell_type": "markdown",
   "id": "7c8ef138-2f48-4a2b-a1b2-299d5a83998b",
   "metadata": {},
   "source": [
    "## Introduction to Arithmetic expression examples\n",
    "#### In the cell below, I will code some arithmetic expressions."
   ]
  },
  {
   "cell_type": "code",
   "execution_count": 1,
   "id": "f952a777-4c4e-4225-ad5c-4f204de8bd56",
   "metadata": {},
   "outputs": [
    {
     "data": {
      "text/html": [
       "56200"
      ],
      "text/latex": [
       "56200"
      ],
      "text/markdown": [
       "56200"
      ],
      "text/plain": [
       "[1] 56200"
      ]
     },
     "metadata": {},
     "output_type": "display_data"
    },
    {
     "data": {
      "text/html": [
       "1754658"
      ],
      "text/latex": [
       "1754658"
      ],
      "text/markdown": [
       "1754658"
      ],
      "text/plain": [
       "[1] 1754658"
      ]
     },
     "metadata": {},
     "output_type": "display_data"
    }
   ],
   "source": [
    "# Multiply and Add Numbers here\n",
    "\n",
    "200+56000 # add\n",
    "387* 4534 # multiply"
   ]
  },
  {
   "cell_type": "code",
   "execution_count": 5,
   "id": "eba5efd0-4a60-4801-bb68-34a6bb7e0e40",
   "metadata": {},
   "outputs": [
    {
     "data": {
      "text/html": [
       "8"
      ],
      "text/latex": [
       "8"
      ],
      "text/markdown": [
       "8"
      ],
      "text/plain": [
       "[1] 8"
      ]
     },
     "metadata": {},
     "output_type": "display_data"
    }
   ],
   "source": [
    "# Create a cell code to convert Minutes to Hours here \n",
    " \n",
    "min.to.hours <- function(x) { \n",
    "        step.one <- round(x/60, digits = 0) # Here, I call an argument from [R] and ask it to take any value of x, divide it by 60 and round it to the nearest whole number.\n",
    "        return(step.one) # Here, I ask the function to return the value of \"step.one\"\n",
    "}\n",
    " # Example\n",
    "min.to.hours(x = 480)"
   ]
  },
  {
   "cell_type": "markdown",
   "id": "dc9fd62f-98ca-43f7-8515-5f06b2c12fd5",
   "metadata": {},
   "source": [
    "### Create List of Objectives of Final Assignment (List)\n",
    "\n",
    "* Create and share a public Jupyter notebook, in any language, in Watson Studio and create markdown cells for peer review.\n",
    "\n",
    "* Evaluate and grade final assignments submitted by fellow learners using the given rubric. Provide constructive feedback and offer ideas and suggestions that fellow learners can apply right away."
   ]
  },
  {
   "cell_type": "markdown",
   "id": "c5018aeb-df0b-43f5-8ea8-e0d460b9ca6d",
   "metadata": {},
   "source": [
    "### Create a markdown cell to indicate Authors Name\n",
    "Ellita T. Williams"
   ]
  }
 ],
 "metadata": {
  "kernelspec": {
   "display_name": "R",
   "language": "R",
   "name": "conda-env-r-r"
  },
  "language_info": {
   "codemirror_mode": "r",
   "file_extension": ".r",
   "mimetype": "text/x-r-source",
   "name": "R",
   "pygments_lexer": "r",
   "version": "3.5.1"
  }
 },
 "nbformat": 4,
 "nbformat_minor": 5
}
